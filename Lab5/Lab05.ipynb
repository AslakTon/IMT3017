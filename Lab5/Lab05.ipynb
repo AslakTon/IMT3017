{
 "cells": [
  {
   "cell_type": "markdown",
   "metadata": {},
   "source": [
    "# Harris Corner Detection\n"
   ]
  },
  {
   "cell_type": "markdown",
   "metadata": {},
   "source": [
    "# Algorithm \n",
    "Harris Corner Detection Algorithm <br>\n",
    "1.  Apply gaussian filter and compute x and y derivatives of image <br>\n",
    "![1st](Images/1.png)<br>\n",
    "2.  Compute products of derivatives at every pixel<br>\n",
    "![1st](Images/2.png)<br>\n",
    "3.  Compute the sums of the products of derivatives at each pixel<br>\n",
    "![1st](Images/3.png)<br>\n",
    "4. Define at each pixel (x,y) the matrix<br>\n",
    "![1st](Images/4.png)<br>\n",
    "5. Compute the response of the detector at each pixel <br>\n",
    "![1st](Images/5.png)<br>\n",
    "\n",
    "6. Threshold on value of R. Compute nonmax suppression<br>\n"
   ]
  },
  {
   "cell_type": "code",
   "execution_count": 1,
   "metadata": {},
   "outputs": [],
   "source": [
    "%load_ext autoreload\n",
    "%autoreload 2\n",
    "%matplotlib inline"
   ]
  },
  {
   "cell_type": "code",
   "execution_count": 2,
   "metadata": {},
   "outputs": [],
   "source": [
    "import numpy as np\n",
    "import matplotlib.pyplot as plt\n",
    "from skimage.io import imsave, imread,imshow\n",
    "import cv2\n",
    "from harrisdetector import *\n"
   ]
  },
  {
   "cell_type": "code",
   "execution_count": 3,
   "metadata": {},
   "outputs": [
    {
     "name": "stdout",
     "output_type": "stream",
     "text": [
      "Image shape (240, 240, 3)\n"
     ]
    },
    {
     "data": {
      "image/png": "[encoded data removed]",
      "text/plain": [
       "<Figure size 432x288 with 1 Axes>"
      ]
     },
     "metadata": {
      "needs_background": "light"
     },
     "output_type": "display_data"
    }
   ],
   "source": [
    "img=cv2.imread('Images/img.jpg')\n",
    "print(\"Image shape\",img.shape)\n",
    "m, n,ch= img.shape\n",
    "plt.imshow(img[...,::-1])\n",
    "plt.axis('off')  # Turn of axis numbers and ticks\n",
    "plt.show()"
   ]
  },
  {
   "cell_type": "markdown",
   "metadata": {},
   "source": [
    "Lets first do Harris using opencv."
   ]
  },
  {
   "cell_type": "code",
   "execution_count": 4,
   "metadata": {},
   "outputs": [],
   "source": [
    "gray = cv2.cvtColor(img,cv2.COLOR_BGR2GRAY)\n",
    "\n",
    "gray = np.float32(gray)"
   ]
  },
  {
   "cell_type": "markdown",
   "metadata": {},
   "source": [
    "\n",
    "\n",
    "**img** - Input image, it should be grayscale and float32 type. <br>\n",
    "**blockSize** - It is the size of neighbourhood considered for corner detection <br>\n",
    "**ksize** - Aperture parameter of Sobel derivative used.<br>\n",
    "**k** - Harris detector free parameter in the equation.<br>\n",
    "\n"
   ]
  },
  {
   "cell_type": "code",
   "execution_count": 5,
   "metadata": {},
   "outputs": [],
   "source": [
    "dst = cv2.cornerHarris(gray,2,3,0.04)\n",
    "\n",
    "#result is dilated for marking the corners, not important\n",
    "dst = cv2.dilate(dst,None)\n",
    "img2=img.copy()\n",
    "# Threshold for an optimal value, it may vary depending on the image.\n",
    "img2[dst>0.01*dst.max()]=[255,0,0]"
   ]
  },
  {
   "cell_type": "code",
   "execution_count": 6,
   "metadata": {},
   "outputs": [
    {
     "data": {
      "text/plain": [
       "<matplotlib.image.AxesImage at 0x1fe4c3a0308>"
      ]
     },
     "execution_count": 6,
     "metadata": {},
     "output_type": "execute_result"
    },
    {
     "data": {
      "image/png": "[encoded data removed]",
      "text/plain": [
       "<Figure size 432x288 with 1 Axes>"
      ]
     },
     "metadata": {
      "needs_background": "light"
     },
     "output_type": "display_data"
    }
   ],
   "source": [
    "plt.imshow(img2)"
   ]
  },
  {
   "cell_type": "code",
   "execution_count": null,
   "metadata": {},
   "outputs": [],
   "source": []
  },
  {
   "cell_type": "markdown",
   "metadata": {},
   "source": [
    "# Excercise one\n",
    "\n",
    "1. Implement Harris corner detection using numpy. We start first with basic implementation of Harris corner detection. As described in the class Having to compute eigenvalues is computationally expensive\n"
   ]
  },
  {
   "cell_type": "markdown",
   "metadata": {},
   "source": [
    "Starting Code"
   ]
  },
  {
   "cell_type": "markdown",
   "metadata": {},
   "source": [
    "For this example, we will use opencv function soble"
   ]
  },
  {
   "cell_type": "code",
   "execution_count": 7,
   "metadata": {},
   "outputs": [],
   "source": [
    "\n",
    "# Step 1\n",
    "gx = cv2.Sobel(gray, cv2.CV_32F, 1, 0, ksize=3)\n",
    "gy = cv2.Sobel(gray, cv2.CV_32F, 0, 1, ksize=3)\n",
    "\n"
   ]
  },
  {
   "cell_type": "code",
   "execution_count": 8,
   "metadata": {},
   "outputs": [],
   "source": [
    "# Step 2\n",
    "Ix2=gx**2\n",
    "Iy2=gy**2\n",
    "Ixy=gx*gy"
   ]
  },
  {
   "cell_type": "code",
   "execution_count": 9,
   "metadata": {},
   "outputs": [],
   "source": [
    "#Step3\n",
    "Ix2 = cv2.GaussianBlur(Ix2,(3,3),cv2.BORDER_DEFAULT)\n",
    "Iy2 = cv2.GaussianBlur(Iy2,(3,3),cv2.BORDER_DEFAULT)\n",
    "Ixy = cv2.GaussianBlur(Ixy,(3,3),cv2.BORDER_DEFAULT)"
   ]
  },
  {
   "cell_type": "code",
   "execution_count": 10,
   "metadata": {},
   "outputs": [],
   "source": [
    "#Step 4 and 5\n",
    "DetH=Ix2*Iy2-Ixy*Ixy\n",
    "TraceH = Ix2 + Iy2\n",
    "R=DetH - TraceH"
   ]
  },
  {
   "cell_type": "code",
   "execution_count": 11,
   "metadata": {},
   "outputs": [],
   "source": [
    "#Step 6: threshold\n",
    "MaxResp = 0.25\n",
    "img[R > MaxResp*R.max()] = [255,0,0]"
   ]
  },
  {
   "cell_type": "code",
   "execution_count": 12,
   "metadata": {},
   "outputs": [
    {
     "data": {
      "text/plain": [
       "<matplotlib.image.AxesImage at 0x1fe4c414f48>"
      ]
     },
     "execution_count": 12,
     "metadata": {},
     "output_type": "execute_result"
    },
    {
     "data": {
      "image/png": "[encoded data removed]",
      "text/plain": [
       "<Figure size 432x288 with 1 Axes>"
      ]
     },
     "metadata": {
      "needs_background": "light"
     },
     "output_type": "display_data"
    }
   ],
   "source": [
    "plt.imshow(img)"
   ]
  },
  {
   "cell_type": "markdown",
   "metadata": {},
   "source": [
    "2. EXTRA: For this exercise, Implement Harris corner detection using eigenvalues. <br> \n",
    "a. Compare performance of the two methods (time complexity).<br>\n",
    "b. Apply both methods on (Images/img2.jpg) and compare the number of Harris point detected. Show the heatplot for each image. \n",
    "\n"
   ]
  },
  {
   "cell_type": "code",
   "execution_count": null,
   "metadata": {},
   "outputs": [],
   "source": []
  }
 ],
 "metadata": {
  "kernelspec": {
   "display_name": "Python 3",
   "language": "python",
   "name": "python3"
  },
  "language_info": {
   "codemirror_mode": {
    "name": "ipython",
    "version": 3
   },
   "file_extension": ".py",
   "mimetype": "text/x-python",
   "name": "python",
   "nbconvert_exporter": "python",
   "pygments_lexer": "ipython3",
   "version": "3.7.8"
  }
 },
 "nbformat": 4,
 "nbformat_minor": 2
}
